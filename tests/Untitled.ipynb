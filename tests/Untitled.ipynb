{
 "cells": [
  {
   "cell_type": "code",
   "execution_count": null,
   "id": "b0c197f9-be63-4558-8342-226b8fbb667e",
   "metadata": {},
   "outputs": [],
   "source": []
  },
  {
   "cell_type": "code",
   "execution_count": 5,
   "id": "471882c8-4073-49ff-bc42-2862400d7e70",
   "metadata": {
    "tags": []
   },
   "outputs": [],
   "source": [
    "import pytest\n",
    "from qiskit import QuantumCircuit\n",
    "from src.check_equivalence import *\n",
    "\n",
    "@pytest.mark.parametrize(\"circuit1,circuit2,expected\", [\n",
    "    (QuantumCircuit(2), QuantumCircuit(2), True),  # both circuits are empty\n",
    "    (QuantumCircuit.from_qasm_str(\"OPENQASM 2.0; include \\\"qelib1.inc\\\"; qreg q[2]; h q[0]; cx q[0],q[1];\"),\n",
    "     QuantumCircuit.from_qasm_str(\"OPENQASM 2.0; include \\\"qelib1.inc\\\"; qreg q[2]; h q[0]; cx q[0],q[1];\"), True),  # both circuits are identical\n",
    "    (QuantumCircuit.from_qasm_str(\"OPENQASM 2.0; include \\\"qelib1.inc\\\"; qreg q[2]; h q[0]; cx q[0],q[1];\"),\n",
    "     QuantumCircuit.from_qasm_str(\"OPENQASM 2.0; include \\\"qelib1.inc\\\"; qreg q[2]; h q[1]; cx q[1],q[0];\"), False),  # circuits are different\n",
    "])\n",
    "def test_are_circuits_equivalent(circuit1, circuit2, expected):\n",
    "    assert check_equivalence.are_circuits_equivalent(circuit1, circuit2) == expected\n"
   ]
  },
  {
   "cell_type": "code",
   "execution_count": null,
   "id": "0f8855bf-e549-4454-936e-5f230523151d",
   "metadata": {},
   "outputs": [],
   "source": []
  },
  {
   "cell_type": "code",
   "execution_count": 6,
   "id": "69903eff-1011-4096-abde-d0fad3205fc0",
   "metadata": {
    "tags": []
   },
   "outputs": [],
   "source": [
    "import os\n",
    "import pytest\n",
    "from qiskit import QuantumCircuit\n",
    "from src.check_equivalence import *\n",
    "\n",
    "# load the original circuits\n",
    "original_circuit_list = []\n",
    "original_circuit_names = []\n",
    "original_directory = \"../circuits/original/\"\n",
    "for filename in sorted(os.listdir(original_directory)):\n",
    "    if filename.endswith(\".qasm\"): \n",
    "        circ = QuantumCircuit.from_qasm_file(original_directory+filename)\n",
    "        original_circuit_names.append(original_directory+filename)\n",
    "        original_circuit_list.append(circ)\n",
    "\n",
    "# load the transpiled circuits\n",
    "transpiled_circuit_list = []\n",
    "transpiled_circuit_names = []\n",
    "transpiled_directory = \"../circuits/transpiled/\"\n",
    "for filename in sorted(os.listdir(transpiled_directory)):\n",
    "    if filename.endswith(\".qasm\"): \n",
    "        circ = QuantumCircuit.from_qasm_file(transpiled_directory+filename)\n",
    "        transpiled_circuit_names.append(transpiled_directory+filename)\n",
    "        transpiled_circuit_list.append(circ)\n",
    "\n",
    "@pytest.mark.parametrize(\"circuit1,circuit2\", zip(original_circuit_list, transpiled_circuit_list))\n",
    "def test_are_circuits_equivalent(circuit1, circuit2):\n",
    "    assert check_equivalence.are_circuits_equivalent(circuit1, circuit2) == True\n"
   ]
  },
  {
   "cell_type": "code",
   "execution_count": null,
   "id": "eeb1f299-2000-41db-94e9-b9a69ea54e54",
   "metadata": {},
   "outputs": [],
   "source": []
  },
  {
   "cell_type": "code",
   "execution_count": null,
   "id": "918b75e4-f377-47d7-9af1-aa3d05d8f048",
   "metadata": {},
   "outputs": [],
   "source": [
    "import os\n",
    "import pytest\n",
    "from qiskit import QuantumCircuit\n",
    "from src.check_equivalence import *\n",
    "from src.inject_error import *\n",
    "\n",
    "# load the original circuits\n",
    "original_circuit_list = []\n",
    "original_circuit_names = []\n",
    "original_directory = \"../circuits/original/\"\n",
    "for filename in sorted(os.listdir(original_directory)):\n",
    "    if filename.endswith(\".qasm\"): \n",
    "        circ = QuantumCircuit.from_qasm_file(original_directory+filename)\n",
    "        original_circuit_names.append(original_directory+filename)\n",
    "        original_circuit_list.append(circ)\n",
    "\n",
    "# load the transpiled circuits\n",
    "transpiled_circuit_list = []\n",
    "transpiled_circuit_names = []\n",
    "transpiled_directory = \"../circuits/transpiled/\"\n",
    "for filename in sorted(os.listdir(transpiled_directory)):\n",
    "    if filename.endswith(\".qasm\"): \n",
    "        circ = QuantumCircuit.from_qasm_file(transpiled_directory+filename)\n",
    "        transpiled_circuit_names.append(transpiled_directory+filename)\n",
    "        transpiled_circuit_list.append(circ)\n",
    "\n",
    "@pytest.mark.parametrize(\"circuit1, circuit2\", zip(original_circuit_list, transpiled_circuit_list))\n",
    "def test_inject_error(circuit1, circuit2):\n",
    "    \n",
    "    # take a circuit from transpiled_circuit_list and inject an error into the circuit\n",
    "    error_circuit = inject_error(circuit2, 'insert')\n",
    "    \n",
    "    # check if the error_circuit is not equivalent to the corresponding original circuit\n",
    "    assert are_circuits_equivalent(circuit1, circuit2) == True and \n",
    "            are_circuits_equivalent(circuit1, error_circuit) == False\n"
   ]
  },
  {
   "cell_type": "code",
   "execution_count": null,
   "id": "547862b5-6c1f-4aa8-a7ce-7c4fdda3b7d8",
   "metadata": {},
   "outputs": [],
   "source": []
  },
  {
   "cell_type": "code",
   "execution_count": null,
   "id": "3b356d4b-c811-45d4-acdf-f05f36019e0c",
   "metadata": {},
   "outputs": [],
   "source": []
  },
  {
   "cell_type": "code",
   "execution_count": null,
   "id": "78eba2ef-e2a9-4c79-b0f2-dd367fdf9317",
   "metadata": {},
   "outputs": [],
   "source": []
  }
 ],
 "metadata": {
  "kernelspec": {
   "display_name": "phd-env",
   "language": "python",
   "name": "phd-env"
  },
  "language_info": {
   "codemirror_mode": {
    "name": "ipython",
    "version": 3
   },
   "file_extension": ".py",
   "mimetype": "text/x-python",
   "name": "python",
   "nbconvert_exporter": "python",
   "pygments_lexer": "ipython3",
   "version": "3.10.9"
  }
 },
 "nbformat": 4,
 "nbformat_minor": 5
}
