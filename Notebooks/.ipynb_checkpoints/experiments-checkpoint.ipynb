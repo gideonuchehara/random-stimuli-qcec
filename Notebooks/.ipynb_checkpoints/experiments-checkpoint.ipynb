{
 "cells": [
  {
   "cell_type": "code",
   "execution_count": 1,
   "id": "a89a62e3-8355-4582-b75a-411e84f16a50",
   "metadata": {
    "tags": []
   },
   "outputs": [],
   "source": [
    "from qiskit import QuantumCircuit\n",
    "from src.experiment import qcec_experiment"
   ]
  },
  {
   "cell_type": "code",
   "execution_count": 2,
   "id": "3d98ffde-ee0f-41eb-afb7-3e7ea23f69fa",
   "metadata": {
    "tags": []
   },
   "outputs": [],
   "source": [
    "import os\n",
    "\n",
    "original_circuit_list = []\n",
    "original_circuit_names = []\n",
    "original_directory = \"../circuits/original/\"\n",
    "for filename in sorted(os.listdir(original_directory)):\n",
    "    if filename.endswith(\".qasm\"): \n",
    "        circ = QuantumCircuit.from_qasm_file(original_directory+filename)\n",
    "        original_circuit_names.append(original_directory+filename)\n",
    "        original_circuit_list.append(circ)\n",
    "        \n",
    "\n",
    "transpiled_circuit_list = []\n",
    "transpiled_circuit_names = []\n",
    "transpiled_directory = \"../circuits/transpiled/\"\n",
    "for filename in sorted(os.listdir(transpiled_directory)):\n",
    "    if filename.endswith(\".qasm\"): \n",
    "        circ = QuantumCircuit.from_qasm_file(transpiled_directory+filename)\n",
    "        transpiled_circuit_names.append(transpiled_directory+filename)\n",
    "        transpiled_circuit_list.append(circ)"
   ]
  },
  {
   "cell_type": "code",
   "execution_count": 3,
   "id": "0f22eb6a-6012-4706-aad6-1fe95c2423f8",
   "metadata": {
    "tags": []
   },
   "outputs": [],
   "source": [
    "# from src.inject_error import inject_error\n",
    "# inject_error(transpiled_circuit_list[4], 'toffoli_beginning', num_errors=1)"
   ]
  },
  {
   "cell_type": "code",
   "execution_count": 4,
   "id": "9bb46a50-9541-4022-8932-73ddf7b3967e",
   "metadata": {
    "tags": []
   },
   "outputs": [],
   "source": [
    "# for circ in original_circuit_list:\n",
    "#     print(circ.num_qubits)"
   ]
  },
  {
   "cell_type": "code",
   "execution_count": 5,
   "id": "fd1c757a-a6e5-43e5-9d03-9b964b247fb7",
   "metadata": {
    "tags": []
   },
   "outputs": [],
   "source": [
    "# for circ in transpiled_circuit_list:\n",
    "#     print(circ.num_qubits)\n",
    "    "
   ]
  },
  {
   "cell_type": "code",
   "execution_count": 6,
   "id": "30c55369-24fa-4da9-b0cd-f25349d336bb",
   "metadata": {
    "tags": []
   },
   "outputs": [],
   "source": [
    "experiments = {\"Remove 1 random gate\": (\"remove\", 1), \"Remove 2 random gates\": (\"remove\", 2), \n",
    " \"Remove 3 random gates\": (\"remove\", 3), \"Add 1 random gate\": (\"insert\", 1), \n",
    " \"Add 2 random gate\": (\"insert\", 2), \"Add 3 random gate\": (\"insert\", 3),\n",
    " \"Add 10 random Toffolis at beginning\": (\"toffoli_beginning\", 10), \n",
    " \"Add 10 random Toffolis at end\": (\"toffoli_end\", 10)}"
   ]
  },
  {
   "cell_type": "code",
   "execution_count": 7,
   "id": "e0f460e5-2341-417b-8377-1ddf72a26a56",
   "metadata": {
    "tags": []
   },
   "outputs": [],
   "source": [
    "df, df_main = qcec_experiment(original_circuit_list, transpiled_circuit_list, experiments)"
   ]
  },
  {
   "cell_type": "code",
   "execution_count": 8,
   "id": "af3b5f60-dc55-4825-bfde-9fc7ed0870d5",
   "metadata": {
    "tags": []
   },
   "outputs": [
    {
     "data": {
      "text/html": [
       "<div>\n",
       "<style scoped>\n",
       "    .dataframe tbody tr th:only-of-type {\n",
       "        vertical-align: middle;\n",
       "    }\n",
       "\n",
       "    .dataframe tbody tr th {\n",
       "        vertical-align: top;\n",
       "    }\n",
       "\n",
       "    .dataframe thead th {\n",
       "        text-align: right;\n",
       "    }\n",
       "</style>\n",
       "<table border=\"1\" class=\"dataframe\">\n",
       "  <thead>\n",
       "    <tr style=\"text-align: right;\">\n",
       "      <th></th>\n",
       "      <th></th>\n",
       "      <th>classical</th>\n",
       "      <th>local</th>\n",
       "      <th>global</th>\n",
       "    </tr>\n",
       "  </thead>\n",
       "  <tbody>\n",
       "    <tr>\n",
       "      <th rowspan=\"3\" valign=\"top\">Remove 1 random gate</th>\n",
       "      <th>Ps</th>\n",
       "      <td>88.3 ± 25.7</td>\n",
       "      <td>98.5 ± 6.5</td>\n",
       "      <td>98.2 ± 7.0</td>\n",
       "    </tr>\n",
       "    <tr>\n",
       "      <th>∅s</th>\n",
       "      <td>1.4 ± 1.2</td>\n",
       "      <td>1.0 ± 0.2</td>\n",
       "      <td>1.0 ± 0.2</td>\n",
       "    </tr>\n",
       "    <tr>\n",
       "      <th>∅t</th>\n",
       "      <td>0.5 ± 0.3</td>\n",
       "      <td>0.5 ± 0.3</td>\n",
       "      <td>0.6 ± 0.4</td>\n",
       "    </tr>\n",
       "    <tr>\n",
       "      <th rowspan=\"3\" valign=\"top\">Remove 2 random gates</th>\n",
       "      <th>Ps</th>\n",
       "      <td>91.7 ± 23.2</td>\n",
       "      <td>98.6 ± 6.4</td>\n",
       "      <td>98.3 ± 6.9</td>\n",
       "    </tr>\n",
       "    <tr>\n",
       "      <th>∅s</th>\n",
       "      <td>1.3 ± 1.0</td>\n",
       "      <td>1.0 ± 0.2</td>\n",
       "      <td>1.0 ± 0.1</td>\n",
       "    </tr>\n",
       "    <tr>\n",
       "      <th>∅t</th>\n",
       "      <td>0.5 ± 0.3</td>\n",
       "      <td>0.5 ± 0.3</td>\n",
       "      <td>0.6 ± 0.4</td>\n",
       "    </tr>\n",
       "    <tr>\n",
       "      <th rowspan=\"3\" valign=\"top\">Remove 3 random gates</th>\n",
       "      <th>Ps</th>\n",
       "      <td>93.9 ± 21.4</td>\n",
       "      <td>98.7 ± 6.1</td>\n",
       "      <td>98.4 ± 6.9</td>\n",
       "    </tr>\n",
       "    <tr>\n",
       "      <th>∅s</th>\n",
       "      <td>1.2 ± 1.0</td>\n",
       "      <td>1.0 ± 0.1</td>\n",
       "      <td>1.0 ± 0.1</td>\n",
       "    </tr>\n",
       "    <tr>\n",
       "      <th>∅t</th>\n",
       "      <td>0.5 ± 0.3</td>\n",
       "      <td>0.5 ± 0.3</td>\n",
       "      <td>0.6 ± 0.4</td>\n",
       "    </tr>\n",
       "    <tr>\n",
       "      <th rowspan=\"3\" valign=\"top\">Add 1 random gate</th>\n",
       "      <th>Ps</th>\n",
       "      <td>82.7 ± 27.2</td>\n",
       "      <td>98.5 ± 5.8</td>\n",
       "      <td>98.1 ± 7.1</td>\n",
       "    </tr>\n",
       "    <tr>\n",
       "      <th>∅s</th>\n",
       "      <td>1.4 ± 1.2</td>\n",
       "      <td>1.0 ± 0.1</td>\n",
       "      <td>1.0 ± 0.2</td>\n",
       "    </tr>\n",
       "    <tr>\n",
       "      <th>∅t</th>\n",
       "      <td>0.4 ± 0.3</td>\n",
       "      <td>0.4 ± 0.3</td>\n",
       "      <td>0.5 ± 0.3</td>\n",
       "    </tr>\n",
       "    <tr>\n",
       "      <th rowspan=\"3\" valign=\"top\">Add 2 random gate</th>\n",
       "      <th>Ps</th>\n",
       "      <td>85.8 ± 25.7</td>\n",
       "      <td>98.0 ± 7.2</td>\n",
       "      <td>97.7 ± 7.6</td>\n",
       "    </tr>\n",
       "    <tr>\n",
       "      <th>∅s</th>\n",
       "      <td>1.3 ± 1.0</td>\n",
       "      <td>1.0 ± 0.1</td>\n",
       "      <td>1.0 ± 0.2</td>\n",
       "    </tr>\n",
       "    <tr>\n",
       "      <th>∅t</th>\n",
       "      <td>0.4 ± 0.3</td>\n",
       "      <td>0.5 ± 0.3</td>\n",
       "      <td>0.5 ± 0.4</td>\n",
       "    </tr>\n",
       "    <tr>\n",
       "      <th rowspan=\"3\" valign=\"top\">Add 3 random gate</th>\n",
       "      <th>Ps</th>\n",
       "      <td>89.9 ± 22.5</td>\n",
       "      <td>98.3 ± 6.3</td>\n",
       "      <td>98.5 ± 6.1</td>\n",
       "    </tr>\n",
       "    <tr>\n",
       "      <th>∅s</th>\n",
       "      <td>1.3 ± 0.9</td>\n",
       "      <td>1.0 ± 0.1</td>\n",
       "      <td>1.0 ± 0.1</td>\n",
       "    </tr>\n",
       "    <tr>\n",
       "      <th>∅t</th>\n",
       "      <td>0.4 ± 0.3</td>\n",
       "      <td>0.4 ± 0.3</td>\n",
       "      <td>0.5 ± 0.3</td>\n",
       "    </tr>\n",
       "    <tr>\n",
       "      <th rowspan=\"3\" valign=\"top\">Add 10 random Toffolis at beginning</th>\n",
       "      <th>Ps</th>\n",
       "      <td>79.3 ± 27.7</td>\n",
       "      <td>98.4 ± 6.3</td>\n",
       "      <td>98.2 ± 6.1</td>\n",
       "    </tr>\n",
       "    <tr>\n",
       "      <th>∅s</th>\n",
       "      <td>1.5 ± 1.2</td>\n",
       "      <td>1.0 ± 0.1</td>\n",
       "      <td>1.0 ± 0.1</td>\n",
       "    </tr>\n",
       "    <tr>\n",
       "      <th>∅t</th>\n",
       "      <td>0.4 ± 0.3</td>\n",
       "      <td>0.4 ± 0.3</td>\n",
       "      <td>0.5 ± 0.3</td>\n",
       "    </tr>\n",
       "    <tr>\n",
       "      <th rowspan=\"3\" valign=\"top\">Add 10 random Toffolis at end</th>\n",
       "      <th>Ps</th>\n",
       "      <td>78.6 ± 27.2</td>\n",
       "      <td>98.2 ± 6.8</td>\n",
       "      <td>97.5 ± 8.5</td>\n",
       "    </tr>\n",
       "    <tr>\n",
       "      <th>∅s</th>\n",
       "      <td>1.5 ± 1.2</td>\n",
       "      <td>1.0 ± 0.2</td>\n",
       "      <td>1.0 ± 0.2</td>\n",
       "    </tr>\n",
       "    <tr>\n",
       "      <th>∅t</th>\n",
       "      <td>0.4 ± 0.3</td>\n",
       "      <td>0.4 ± 0.3</td>\n",
       "      <td>0.5 ± 0.3</td>\n",
       "    </tr>\n",
       "    <tr>\n",
       "      <th rowspan=\"3\" valign=\"top\">Overall</th>\n",
       "      <th>Ps</th>\n",
       "      <td>86.3 ±25.1</td>\n",
       "      <td>98.4 ±6.4</td>\n",
       "      <td>98.1 ±7.0</td>\n",
       "    </tr>\n",
       "    <tr>\n",
       "      <th>∅s</th>\n",
       "      <td>1.4 ±1.1</td>\n",
       "      <td>1.0 ±0.1</td>\n",
       "      <td>1.0 ±0.2</td>\n",
       "    </tr>\n",
       "    <tr>\n",
       "      <th>∅t</th>\n",
       "      <td>0.4 ±0.3</td>\n",
       "      <td>0.5 ±0.3</td>\n",
       "      <td>0.5 ±0.4</td>\n",
       "    </tr>\n",
       "  </tbody>\n",
       "</table>\n",
       "</div>"
      ],
      "text/plain": [
       "                                          classical       local      global\n",
       "Remove 1 random gate                Ps  88.3 ± 25.7  98.5 ± 6.5  98.2 ± 7.0\n",
       "                                    ∅s    1.4 ± 1.2   1.0 ± 0.2   1.0 ± 0.2\n",
       "                                    ∅t    0.5 ± 0.3   0.5 ± 0.3   0.6 ± 0.4\n",
       "Remove 2 random gates               Ps  91.7 ± 23.2  98.6 ± 6.4  98.3 ± 6.9\n",
       "                                    ∅s    1.3 ± 1.0   1.0 ± 0.2   1.0 ± 0.1\n",
       "                                    ∅t    0.5 ± 0.3   0.5 ± 0.3   0.6 ± 0.4\n",
       "Remove 3 random gates               Ps  93.9 ± 21.4  98.7 ± 6.1  98.4 ± 6.9\n",
       "                                    ∅s    1.2 ± 1.0   1.0 ± 0.1   1.0 ± 0.1\n",
       "                                    ∅t    0.5 ± 0.3   0.5 ± 0.3   0.6 ± 0.4\n",
       "Add 1 random gate                   Ps  82.7 ± 27.2  98.5 ± 5.8  98.1 ± 7.1\n",
       "                                    ∅s    1.4 ± 1.2   1.0 ± 0.1   1.0 ± 0.2\n",
       "                                    ∅t    0.4 ± 0.3   0.4 ± 0.3   0.5 ± 0.3\n",
       "Add 2 random gate                   Ps  85.8 ± 25.7  98.0 ± 7.2  97.7 ± 7.6\n",
       "                                    ∅s    1.3 ± 1.0   1.0 ± 0.1   1.0 ± 0.2\n",
       "                                    ∅t    0.4 ± 0.3   0.5 ± 0.3   0.5 ± 0.4\n",
       "Add 3 random gate                   Ps  89.9 ± 22.5  98.3 ± 6.3  98.5 ± 6.1\n",
       "                                    ∅s    1.3 ± 0.9   1.0 ± 0.1   1.0 ± 0.1\n",
       "                                    ∅t    0.4 ± 0.3   0.4 ± 0.3   0.5 ± 0.3\n",
       "Add 10 random Toffolis at beginning Ps  79.3 ± 27.7  98.4 ± 6.3  98.2 ± 6.1\n",
       "                                    ∅s    1.5 ± 1.2   1.0 ± 0.1   1.0 ± 0.1\n",
       "                                    ∅t    0.4 ± 0.3   0.4 ± 0.3   0.5 ± 0.3\n",
       "Add 10 random Toffolis at end       Ps  78.6 ± 27.2  98.2 ± 6.8  97.5 ± 8.5\n",
       "                                    ∅s    1.5 ± 1.2   1.0 ± 0.2   1.0 ± 0.2\n",
       "                                    ∅t    0.4 ± 0.3   0.4 ± 0.3   0.5 ± 0.3\n",
       "Overall                             Ps   86.3 ±25.1   98.4 ±6.4   98.1 ±7.0\n",
       "                                    ∅s     1.4 ±1.1    1.0 ±0.1    1.0 ±0.2\n",
       "                                    ∅t     0.4 ±0.3    0.5 ±0.3    0.5 ±0.4"
      ]
     },
     "execution_count": 8,
     "metadata": {},
     "output_type": "execute_result"
    }
   ],
   "source": [
    "df"
   ]
  },
  {
   "cell_type": "code",
   "execution_count": null,
   "id": "9175c516-3abf-461b-841e-959f79cdf78b",
   "metadata": {},
   "outputs": [],
   "source": []
  },
  {
   "cell_type": "code",
   "execution_count": 9,
   "id": "87fb5feb-ebb6-432d-b661-41d51f42f6bb",
   "metadata": {
    "tags": []
   },
   "outputs": [],
   "source": [
    "import pandas as pd"
   ]
  },
  {
   "cell_type": "code",
   "execution_count": 10,
   "id": "8472e0c3-379d-4fb9-bbb5-11b0baeda5cb",
   "metadata": {
    "tags": []
   },
   "outputs": [
    {
     "name": "stderr",
     "output_type": "stream",
     "text": [
      "/tmp/ipykernel_59167/4010859930.py:1: FutureWarning: In future versions `DataFrame.to_latex` is expected to utilise the base implementation of `Styler.to_latex` for formatting and rendering. The arguments signature may therefore change. It is recommended instead to use `DataFrame.style.to_latex` which also contains additional functionality.\n",
      "  pd.DataFrame.to_latex(df)\n"
     ]
    },
    {
     "data": {
      "text/plain": [
       "'\\\\begin{tabular}{lllll}\\n\\\\toprule\\n        &    &    classical &       local &      global \\\\\\\\\\n\\\\midrule\\nRemove 1 random gate & Ps &  88.3 ± 25.7 &  98.5 ± 6.5 &  98.2 ± 7.0 \\\\\\\\\\n        & ∅s &    1.4 ± 1.2 &   1.0 ± 0.2 &   1.0 ± 0.2 \\\\\\\\\\n        & ∅t &    0.5 ± 0.3 &   0.5 ± 0.3 &   0.6 ± 0.4 \\\\\\\\\\nRemove 2 random gates & Ps &  91.7 ± 23.2 &  98.6 ± 6.4 &  98.3 ± 6.9 \\\\\\\\\\n        & ∅s &    1.3 ± 1.0 &   1.0 ± 0.2 &   1.0 ± 0.1 \\\\\\\\\\n        & ∅t &    0.5 ± 0.3 &   0.5 ± 0.3 &   0.6 ± 0.4 \\\\\\\\\\nRemove 3 random gates & Ps &  93.9 ± 21.4 &  98.7 ± 6.1 &  98.4 ± 6.9 \\\\\\\\\\n        & ∅s &    1.2 ± 1.0 &   1.0 ± 0.1 &   1.0 ± 0.1 \\\\\\\\\\n        & ∅t &    0.5 ± 0.3 &   0.5 ± 0.3 &   0.6 ± 0.4 \\\\\\\\\\nAdd 1 random gate & Ps &  82.7 ± 27.2 &  98.5 ± 5.8 &  98.1 ± 7.1 \\\\\\\\\\n        & ∅s &    1.4 ± 1.2 &   1.0 ± 0.1 &   1.0 ± 0.2 \\\\\\\\\\n        & ∅t &    0.4 ± 0.3 &   0.4 ± 0.3 &   0.5 ± 0.3 \\\\\\\\\\nAdd 2 random gate & Ps &  85.8 ± 25.7 &  98.0 ± 7.2 &  97.7 ± 7.6 \\\\\\\\\\n        & ∅s &    1.3 ± 1.0 &   1.0 ± 0.1 &   1.0 ± 0.2 \\\\\\\\\\n        & ∅t &    0.4 ± 0.3 &   0.5 ± 0.3 &   0.5 ± 0.4 \\\\\\\\\\nAdd 3 random gate & Ps &  89.9 ± 22.5 &  98.3 ± 6.3 &  98.5 ± 6.1 \\\\\\\\\\n        & ∅s &    1.3 ± 0.9 &   1.0 ± 0.1 &   1.0 ± 0.1 \\\\\\\\\\n        & ∅t &    0.4 ± 0.3 &   0.4 ± 0.3 &   0.5 ± 0.3 \\\\\\\\\\nAdd 10 random Toffolis at beginning & Ps &  79.3 ± 27.7 &  98.4 ± 6.3 &  98.2 ± 6.1 \\\\\\\\\\n        & ∅s &    1.5 ± 1.2 &   1.0 ± 0.1 &   1.0 ± 0.1 \\\\\\\\\\n        & ∅t &    0.4 ± 0.3 &   0.4 ± 0.3 &   0.5 ± 0.3 \\\\\\\\\\nAdd 10 random Toffolis at end & Ps &  78.6 ± 27.2 &  98.2 ± 6.8 &  97.5 ± 8.5 \\\\\\\\\\n        & ∅s &    1.5 ± 1.2 &   1.0 ± 0.2 &   1.0 ± 0.2 \\\\\\\\\\n        & ∅t &    0.4 ± 0.3 &   0.4 ± 0.3 &   0.5 ± 0.3 \\\\\\\\\\nOverall & Ps &   86.3 ±25.1 &   98.4 ±6.4 &   98.1 ±7.0 \\\\\\\\\\n        & ∅s &     1.4 ±1.1 &    1.0 ±0.1 &    1.0 ±0.2 \\\\\\\\\\n        & ∅t &     0.4 ±0.3 &    0.5 ±0.3 &    0.5 ±0.4 \\\\\\\\\\n\\\\bottomrule\\n\\\\end{tabular}\\n'"
      ]
     },
     "execution_count": 10,
     "metadata": {},
     "output_type": "execute_result"
    }
   ],
   "source": [
    "pd.DataFrame.to_latex(df)"
   ]
  },
  {
   "cell_type": "code",
   "execution_count": 11,
   "id": "36f7ec4e-d41a-4fbb-b7a1-1232e40ccbc8",
   "metadata": {
    "tags": []
   },
   "outputs": [],
   "source": [
    "df.to_csv(\"qcec_experiment_00.csv\")"
   ]
  },
  {
   "cell_type": "code",
   "execution_count": 12,
   "id": "5127fc7d-83fd-4d1b-894c-679b3e4e2a85",
   "metadata": {
    "tags": []
   },
   "outputs": [
    {
     "data": {
      "text/html": [
       "<div>\n",
       "<style scoped>\n",
       "    .dataframe tbody tr th:only-of-type {\n",
       "        vertical-align: middle;\n",
       "    }\n",
       "\n",
       "    .dataframe tbody tr th {\n",
       "        vertical-align: top;\n",
       "    }\n",
       "\n",
       "    .dataframe thead th {\n",
       "        text-align: right;\n",
       "    }\n",
       "</style>\n",
       "<table border=\"1\" class=\"dataframe\">\n",
       "  <thead>\n",
       "    <tr style=\"text-align: right;\">\n",
       "      <th></th>\n",
       "      <th>Unnamed: 0</th>\n",
       "      <th>Unnamed: 1</th>\n",
       "      <th>classical</th>\n",
       "      <th>local</th>\n",
       "      <th>global</th>\n",
       "    </tr>\n",
       "  </thead>\n",
       "  <tbody>\n",
       "    <tr>\n",
       "      <th>0</th>\n",
       "      <td>Remove 1 random gate</td>\n",
       "      <td>Ps</td>\n",
       "      <td>88.3 ± 25.7</td>\n",
       "      <td>98.5 ± 6.5</td>\n",
       "      <td>98.2 ± 7.0</td>\n",
       "    </tr>\n",
       "    <tr>\n",
       "      <th>1</th>\n",
       "      <td>Remove 1 random gate</td>\n",
       "      <td>∅s</td>\n",
       "      <td>1.4 ± 1.2</td>\n",
       "      <td>1.0 ± 0.2</td>\n",
       "      <td>1.0 ± 0.2</td>\n",
       "    </tr>\n",
       "    <tr>\n",
       "      <th>2</th>\n",
       "      <td>Remove 1 random gate</td>\n",
       "      <td>∅t</td>\n",
       "      <td>0.5 ± 0.3</td>\n",
       "      <td>0.5 ± 0.3</td>\n",
       "      <td>0.6 ± 0.4</td>\n",
       "    </tr>\n",
       "    <tr>\n",
       "      <th>3</th>\n",
       "      <td>Remove 2 random gates</td>\n",
       "      <td>Ps</td>\n",
       "      <td>91.7 ± 23.2</td>\n",
       "      <td>98.6 ± 6.4</td>\n",
       "      <td>98.3 ± 6.9</td>\n",
       "    </tr>\n",
       "    <tr>\n",
       "      <th>4</th>\n",
       "      <td>Remove 2 random gates</td>\n",
       "      <td>∅s</td>\n",
       "      <td>1.3 ± 1.0</td>\n",
       "      <td>1.0 ± 0.2</td>\n",
       "      <td>1.0 ± 0.1</td>\n",
       "    </tr>\n",
       "    <tr>\n",
       "      <th>5</th>\n",
       "      <td>Remove 2 random gates</td>\n",
       "      <td>∅t</td>\n",
       "      <td>0.5 ± 0.3</td>\n",
       "      <td>0.5 ± 0.3</td>\n",
       "      <td>0.6 ± 0.4</td>\n",
       "    </tr>\n",
       "    <tr>\n",
       "      <th>6</th>\n",
       "      <td>Remove 3 random gates</td>\n",
       "      <td>Ps</td>\n",
       "      <td>93.9 ± 21.4</td>\n",
       "      <td>98.7 ± 6.1</td>\n",
       "      <td>98.4 ± 6.9</td>\n",
       "    </tr>\n",
       "    <tr>\n",
       "      <th>7</th>\n",
       "      <td>Remove 3 random gates</td>\n",
       "      <td>∅s</td>\n",
       "      <td>1.2 ± 1.0</td>\n",
       "      <td>1.0 ± 0.1</td>\n",
       "      <td>1.0 ± 0.1</td>\n",
       "    </tr>\n",
       "    <tr>\n",
       "      <th>8</th>\n",
       "      <td>Remove 3 random gates</td>\n",
       "      <td>∅t</td>\n",
       "      <td>0.5 ± 0.3</td>\n",
       "      <td>0.5 ± 0.3</td>\n",
       "      <td>0.6 ± 0.4</td>\n",
       "    </tr>\n",
       "    <tr>\n",
       "      <th>9</th>\n",
       "      <td>Add 1 random gate</td>\n",
       "      <td>Ps</td>\n",
       "      <td>82.7 ± 27.2</td>\n",
       "      <td>98.5 ± 5.8</td>\n",
       "      <td>98.1 ± 7.1</td>\n",
       "    </tr>\n",
       "    <tr>\n",
       "      <th>10</th>\n",
       "      <td>Add 1 random gate</td>\n",
       "      <td>∅s</td>\n",
       "      <td>1.4 ± 1.2</td>\n",
       "      <td>1.0 ± 0.1</td>\n",
       "      <td>1.0 ± 0.2</td>\n",
       "    </tr>\n",
       "    <tr>\n",
       "      <th>11</th>\n",
       "      <td>Add 1 random gate</td>\n",
       "      <td>∅t</td>\n",
       "      <td>0.4 ± 0.3</td>\n",
       "      <td>0.4 ± 0.3</td>\n",
       "      <td>0.5 ± 0.3</td>\n",
       "    </tr>\n",
       "    <tr>\n",
       "      <th>12</th>\n",
       "      <td>Add 2 random gate</td>\n",
       "      <td>Ps</td>\n",
       "      <td>85.8 ± 25.7</td>\n",
       "      <td>98.0 ± 7.2</td>\n",
       "      <td>97.7 ± 7.6</td>\n",
       "    </tr>\n",
       "    <tr>\n",
       "      <th>13</th>\n",
       "      <td>Add 2 random gate</td>\n",
       "      <td>∅s</td>\n",
       "      <td>1.3 ± 1.0</td>\n",
       "      <td>1.0 ± 0.1</td>\n",
       "      <td>1.0 ± 0.2</td>\n",
       "    </tr>\n",
       "    <tr>\n",
       "      <th>14</th>\n",
       "      <td>Add 2 random gate</td>\n",
       "      <td>∅t</td>\n",
       "      <td>0.4 ± 0.3</td>\n",
       "      <td>0.5 ± 0.3</td>\n",
       "      <td>0.5 ± 0.4</td>\n",
       "    </tr>\n",
       "    <tr>\n",
       "      <th>15</th>\n",
       "      <td>Add 3 random gate</td>\n",
       "      <td>Ps</td>\n",
       "      <td>89.9 ± 22.5</td>\n",
       "      <td>98.3 ± 6.3</td>\n",
       "      <td>98.5 ± 6.1</td>\n",
       "    </tr>\n",
       "    <tr>\n",
       "      <th>16</th>\n",
       "      <td>Add 3 random gate</td>\n",
       "      <td>∅s</td>\n",
       "      <td>1.3 ± 0.9</td>\n",
       "      <td>1.0 ± 0.1</td>\n",
       "      <td>1.0 ± 0.1</td>\n",
       "    </tr>\n",
       "    <tr>\n",
       "      <th>17</th>\n",
       "      <td>Add 3 random gate</td>\n",
       "      <td>∅t</td>\n",
       "      <td>0.4 ± 0.3</td>\n",
       "      <td>0.4 ± 0.3</td>\n",
       "      <td>0.5 ± 0.3</td>\n",
       "    </tr>\n",
       "    <tr>\n",
       "      <th>18</th>\n",
       "      <td>Add 10 random Toffolis at beginning</td>\n",
       "      <td>Ps</td>\n",
       "      <td>79.3 ± 27.7</td>\n",
       "      <td>98.4 ± 6.3</td>\n",
       "      <td>98.2 ± 6.1</td>\n",
       "    </tr>\n",
       "    <tr>\n",
       "      <th>19</th>\n",
       "      <td>Add 10 random Toffolis at beginning</td>\n",
       "      <td>∅s</td>\n",
       "      <td>1.5 ± 1.2</td>\n",
       "      <td>1.0 ± 0.1</td>\n",
       "      <td>1.0 ± 0.1</td>\n",
       "    </tr>\n",
       "    <tr>\n",
       "      <th>20</th>\n",
       "      <td>Add 10 random Toffolis at beginning</td>\n",
       "      <td>∅t</td>\n",
       "      <td>0.4 ± 0.3</td>\n",
       "      <td>0.4 ± 0.3</td>\n",
       "      <td>0.5 ± 0.3</td>\n",
       "    </tr>\n",
       "    <tr>\n",
       "      <th>21</th>\n",
       "      <td>Add 10 random Toffolis at end</td>\n",
       "      <td>Ps</td>\n",
       "      <td>78.6 ± 27.2</td>\n",
       "      <td>98.2 ± 6.8</td>\n",
       "      <td>97.5 ± 8.5</td>\n",
       "    </tr>\n",
       "    <tr>\n",
       "      <th>22</th>\n",
       "      <td>Add 10 random Toffolis at end</td>\n",
       "      <td>∅s</td>\n",
       "      <td>1.5 ± 1.2</td>\n",
       "      <td>1.0 ± 0.2</td>\n",
       "      <td>1.0 ± 0.2</td>\n",
       "    </tr>\n",
       "    <tr>\n",
       "      <th>23</th>\n",
       "      <td>Add 10 random Toffolis at end</td>\n",
       "      <td>∅t</td>\n",
       "      <td>0.4 ± 0.3</td>\n",
       "      <td>0.4 ± 0.3</td>\n",
       "      <td>0.5 ± 0.3</td>\n",
       "    </tr>\n",
       "    <tr>\n",
       "      <th>24</th>\n",
       "      <td>Overall</td>\n",
       "      <td>Ps</td>\n",
       "      <td>86.3 ±25.1</td>\n",
       "      <td>98.4 ±6.4</td>\n",
       "      <td>98.1 ±7.0</td>\n",
       "    </tr>\n",
       "    <tr>\n",
       "      <th>25</th>\n",
       "      <td>Overall</td>\n",
       "      <td>∅s</td>\n",
       "      <td>1.4 ±1.1</td>\n",
       "      <td>1.0 ±0.1</td>\n",
       "      <td>1.0 ±0.2</td>\n",
       "    </tr>\n",
       "    <tr>\n",
       "      <th>26</th>\n",
       "      <td>Overall</td>\n",
       "      <td>∅t</td>\n",
       "      <td>0.4 ±0.3</td>\n",
       "      <td>0.5 ±0.3</td>\n",
       "      <td>0.5 ±0.4</td>\n",
       "    </tr>\n",
       "  </tbody>\n",
       "</table>\n",
       "</div>"
      ],
      "text/plain": [
       "                             Unnamed: 0 Unnamed: 1    classical       local  \\\n",
       "0                  Remove 1 random gate         Ps  88.3 ± 25.7  98.5 ± 6.5   \n",
       "1                  Remove 1 random gate         ∅s    1.4 ± 1.2   1.0 ± 0.2   \n",
       "2                  Remove 1 random gate         ∅t    0.5 ± 0.3   0.5 ± 0.3   \n",
       "3                 Remove 2 random gates         Ps  91.7 ± 23.2  98.6 ± 6.4   \n",
       "4                 Remove 2 random gates         ∅s    1.3 ± 1.0   1.0 ± 0.2   \n",
       "5                 Remove 2 random gates         ∅t    0.5 ± 0.3   0.5 ± 0.3   \n",
       "6                 Remove 3 random gates         Ps  93.9 ± 21.4  98.7 ± 6.1   \n",
       "7                 Remove 3 random gates         ∅s    1.2 ± 1.0   1.0 ± 0.1   \n",
       "8                 Remove 3 random gates         ∅t    0.5 ± 0.3   0.5 ± 0.3   \n",
       "9                     Add 1 random gate         Ps  82.7 ± 27.2  98.5 ± 5.8   \n",
       "10                    Add 1 random gate         ∅s    1.4 ± 1.2   1.0 ± 0.1   \n",
       "11                    Add 1 random gate         ∅t    0.4 ± 0.3   0.4 ± 0.3   \n",
       "12                    Add 2 random gate         Ps  85.8 ± 25.7  98.0 ± 7.2   \n",
       "13                    Add 2 random gate         ∅s    1.3 ± 1.0   1.0 ± 0.1   \n",
       "14                    Add 2 random gate         ∅t    0.4 ± 0.3   0.5 ± 0.3   \n",
       "15                    Add 3 random gate         Ps  89.9 ± 22.5  98.3 ± 6.3   \n",
       "16                    Add 3 random gate         ∅s    1.3 ± 0.9   1.0 ± 0.1   \n",
       "17                    Add 3 random gate         ∅t    0.4 ± 0.3   0.4 ± 0.3   \n",
       "18  Add 10 random Toffolis at beginning         Ps  79.3 ± 27.7  98.4 ± 6.3   \n",
       "19  Add 10 random Toffolis at beginning         ∅s    1.5 ± 1.2   1.0 ± 0.1   \n",
       "20  Add 10 random Toffolis at beginning         ∅t    0.4 ± 0.3   0.4 ± 0.3   \n",
       "21        Add 10 random Toffolis at end         Ps  78.6 ± 27.2  98.2 ± 6.8   \n",
       "22        Add 10 random Toffolis at end         ∅s    1.5 ± 1.2   1.0 ± 0.2   \n",
       "23        Add 10 random Toffolis at end         ∅t    0.4 ± 0.3   0.4 ± 0.3   \n",
       "24                              Overall         Ps   86.3 ±25.1   98.4 ±6.4   \n",
       "25                              Overall         ∅s     1.4 ±1.1    1.0 ±0.1   \n",
       "26                              Overall         ∅t     0.4 ±0.3    0.5 ±0.3   \n",
       "\n",
       "        global  \n",
       "0   98.2 ± 7.0  \n",
       "1    1.0 ± 0.2  \n",
       "2    0.6 ± 0.4  \n",
       "3   98.3 ± 6.9  \n",
       "4    1.0 ± 0.1  \n",
       "5    0.6 ± 0.4  \n",
       "6   98.4 ± 6.9  \n",
       "7    1.0 ± 0.1  \n",
       "8    0.6 ± 0.4  \n",
       "9   98.1 ± 7.1  \n",
       "10   1.0 ± 0.2  \n",
       "11   0.5 ± 0.3  \n",
       "12  97.7 ± 7.6  \n",
       "13   1.0 ± 0.2  \n",
       "14   0.5 ± 0.4  \n",
       "15  98.5 ± 6.1  \n",
       "16   1.0 ± 0.1  \n",
       "17   0.5 ± 0.3  \n",
       "18  98.2 ± 6.1  \n",
       "19   1.0 ± 0.1  \n",
       "20   0.5 ± 0.3  \n",
       "21  97.5 ± 8.5  \n",
       "22   1.0 ± 0.2  \n",
       "23   0.5 ± 0.3  \n",
       "24   98.1 ±7.0  \n",
       "25    1.0 ±0.2  \n",
       "26    0.5 ±0.4  "
      ]
     },
     "execution_count": 12,
     "metadata": {},
     "output_type": "execute_result"
    }
   ],
   "source": [
    "pd.read_csv(\"qcec_experiment_00.csv\")"
   ]
  },
  {
   "cell_type": "code",
   "execution_count": 20,
   "id": "a6de72b9-ae6f-4e56-99ab-bf4ac5fe09c1",
   "metadata": {
    "tags": []
   },
   "outputs": [],
   "source": [
    "import matplotlib.pyplot as plt\n",
    "import seaborn as sns"
   ]
  },
  {
   "cell_type": "code",
   "execution_count": 35,
   "id": "fc349160-7013-4183-8fbb-e73df94bb63a",
   "metadata": {
    "tags": []
   },
   "outputs": [
    {
     "data": {
      "text/plain": [
       "Text(0.5, 1.0, 'Classical: Remove 1 random gate')"
      ]
     },
     "execution_count": 35,
     "metadata": {},
     "output_type": "execute_result"
    },
    {
     "data": {
      "image/png": "[encoded data removed]",
      "text/plain": [
       "<Figure size 640x480 with 1 Axes>"
      ]
     },
     "metadata": {},
     "output_type": "display_data"
    }
   ],
   "source": [
    "plt.hist(df_main[\"classical\"][\"Remove 1 random gate\"][0])\n",
    "plt.xlabel(\"Error detection rate (Ps)\")\n",
    "plt.ylabel(\"Frequency\")\n",
    "plt.title(\"Classical: Remove 1 random gate\")"
   ]
  },
  {
   "cell_type": "code",
   "execution_count": 25,
   "id": "f3f29360-04ee-4f1b-9eae-fb0bbccbf8da",
   "metadata": {},
   "outputs": [
    {
     "data": {
      "text/plain": [
       "950"
      ]
     },
     "execution_count": 25,
     "metadata": {},
     "output_type": "execute_result"
    }
   ],
   "source": [
    "len(df_main[\"classical\"][\"Remove 1 random gate\"][0])"
   ]
  },
  {
   "cell_type": "code",
   "execution_count": 34,
   "id": "50645e40-5206-4f75-98ea-e0f2cc599ad6",
   "metadata": {
    "tags": []
   },
   "outputs": [
    {
     "data": {
      "text/plain": [
       "Text(0.5, 1.0, 'Classical: Remove 2 random gates')"
      ]
     },
     "execution_count": 34,
     "metadata": {},
     "output_type": "execute_result"
    },
    {
     "data": {
      "image/png": "[encoded data removed]",
      "text/plain": [
       "<Figure size 640x480 with 1 Axes>"
      ]
     },
     "metadata": {},
     "output_type": "display_data"
    }
   ],
   "source": [
    "plt.hist(df_main[\"classical\"][\"Remove 2 random gates\"][0])\n",
    "plt.xlabel(\"Error detection rate (Ps)\")\n",
    "plt.ylabel(\"Frequency\")\n",
    "plt.title(\"Classical: Remove 2 random gates\")"
   ]
  },
  {
   "cell_type": "code",
   "execution_count": 33,
   "id": "c4428b3e-4ca1-4853-997c-cd6549d3b0bd",
   "metadata": {
    "tags": []
   },
   "outputs": [
    {
     "data": {
      "text/plain": [
       "Text(0.5, 1.0, 'global: Remove 1 random gate')"
      ]
     },
     "execution_count": 33,
     "metadata": {},
     "output_type": "execute_result"
    },
    {
     "data": {
      "image/png": "[encoded data removed]",
      "text/plain": [
       "<Figure size 640x480 with 1 Axes>"
      ]
     },
     "metadata": {},
     "output_type": "display_data"
    }
   ],
   "source": [
    "plt.hist(df_main[\"global\"][\"Remove 1 random gate\"][0])\n",
    "plt.xlabel(\"Error detection rate (Ps)\")\n",
    "plt.ylabel(\"Frequency\")\n",
    "plt.title(\"global: Remove 1 random gate\")"
   ]
  },
  {
   "cell_type": "code",
   "execution_count": null,
   "id": "1152d88e-2cc5-4925-af60-2eb899f3f7c2",
   "metadata": {},
   "outputs": [],
   "source": []
  }
 ],
 "metadata": {
  "kernelspec": {
   "display_name": "phd-env",
   "language": "python",
   "name": "phd-env"
  },
  "language_info": {
   "codemirror_mode": {
    "name": "ipython",
    "version": 3
   },
   "file_extension": ".py",
   "mimetype": "text/x-python",
   "name": "python",
   "nbconvert_exporter": "python",
   "pygments_lexer": "ipython3",
   "version": "3.10.9"
  }
 },
 "nbformat": 4,
 "nbformat_minor": 5
}
