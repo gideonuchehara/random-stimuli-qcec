{
 "cells": [
  {
   "cell_type": "code",
   "execution_count": null,
   "id": "305968c9-f484-4b51-90b0-45bcbc1953e1",
   "metadata": {},
   "outputs": [],
   "source": []
  },
  {
   "cell_type": "code",
   "execution_count": 1,
   "id": "f954b8c5-12fd-4fda-b889-c7e2a466ab6c",
   "metadata": {
    "tags": []
   },
   "outputs": [],
   "source": [
    "from qiskit import Aer, execute\n",
    "from qiskit.quantum_info import Statevector\n",
    "from qiskit.circuit.random import random_circuit\n",
    "from qiskit.circuit.library import HGate, SGate, TGate, XGate, YGate, ZGate, CCXGate\n",
    "from qiskit.circuit import QuantumCircuit, Measure\n",
    "import numpy as np"
   ]
  },
  {
   "cell_type": "code",
   "execution_count": 2,
   "id": "ec8e843e-2100-4922-ab74-9854a05b8ada",
   "metadata": {
    "tags": []
   },
   "outputs": [],
   "source": [
    "import copy"
   ]
  },
  {
   "cell_type": "code",
   "execution_count": 3,
   "id": "0d0b7d08-f491-4875-9e3b-9e19d1c7e134",
   "metadata": {
    "tags": []
   },
   "outputs": [],
   "source": [
    "def inject_error(G, error_type, num_errors=1):\n",
    "    \"\"\"Injects errors into the given quantum circuit.\n",
    "\n",
    "    Args:\n",
    "        circuit (QuantumCircuit): The quantum circuit to inject errors into.\n",
    "        error_type (str): The type of error to inject. Options are 'remove', 'insert', 'toffoli_beginning', 'toffoli_end'.\n",
    "        num_errors (int): The number of errors to inject.\n",
    "\n",
    "    Returns:\n",
    "        QuantumCircuit: The quantum circuit with injected errors.\n",
    "    \"\"\"\n",
    "    circuit = copy.deepcopy(G)\n",
    "    gate_dict = {'X': XGate(), 'Y': YGate(), 'Z': ZGate(), 'H': HGate(), 'S': SGate(), 'T': TGate()}\n",
    "    \n",
    "    if error_type == 'toffoli_beginning' or error_type == 'toffoli_end':\n",
    "        num_errors = 10\n",
    "\n",
    "    for _ in range(num_errors):\n",
    "        if error_type == 'remove':\n",
    "            if len(circuit.data) > 0:  # Check if there are gates to remove\n",
    "                n = range(len(circuit.data))\n",
    "                remove_idx = [idx for idx in n if not isinstance(circuit.data[idx].operation, Measure)]\n",
    "                idx = np.random.choice(remove_idx)\n",
    "                circuit.data.pop(idx)\n",
    "\n",
    "        elif error_type == 'insert':\n",
    "            gate = np.random.choice(list(gate_dict.keys()))\n",
    "            idx = np.random.randint(len(circuit.data) + 1)\n",
    "            qubit = np.random.choice(circuit.qubits)\n",
    "            circuit.data.insert(idx, (gate_dict[gate], [qubit], []))\n",
    "\n",
    "        elif error_type == 'toffoli_beginning':\n",
    "            qubits = np.random.choice(range(circuit.num_qubits), size=3, replace=False)\n",
    "            circuit.data.insert(0, (CCXGate(), [circuit.qubits[i] for i in qubits], []))\n",
    "\n",
    "        elif error_type == 'toffoli_end':\n",
    "            qubits = np.random.choice(range(circuit.num_qubits), size=3, replace=False)\n",
    "            circuit.data.append((CCXGate(), [circuit.qubits[i] for i in qubits], []))\n",
    "\n",
    "    return circuit\n"
   ]
  },
  {
   "cell_type": "code",
   "execution_count": 4,
   "id": "0da33e46-9a92-488e-ba02-6763e700fa80",
   "metadata": {
    "tags": []
   },
   "outputs": [
    {
     "name": "stdout",
     "output_type": "stream",
     "text": [
      "Original circuit:\n",
      "        ┌───┐      ░ ┌─┐            \n",
      "   q_0: ┤ H ├──■───░─┤M├────────────\n",
      "        └───┘┌─┴─┐ ░ └╥┘┌─┐         \n",
      "   q_1: ─────┤ X ├─░──╫─┤M├─────────\n",
      "             └───┘ ░  ║ └╥┘┌─┐      \n",
      "   q_2: ───────────░──╫──╫─┤M├──────\n",
      "                   ░  ║  ║ └╥┘┌─┐   \n",
      "   q_3: ───────────░──╫──╫──╫─┤M├───\n",
      "                   ░  ║  ║  ║ └╥┘┌─┐\n",
      "   q_4: ───────────░──╫──╫──╫──╫─┤M├\n",
      "                   ░  ║  ║  ║  ║ └╥┘\n",
      "meas: 5/══════════════╩══╩══╩══╩══╩═\n",
      "                      0  1  2  3  4 \n",
      "\n",
      "Circuit with error:\n",
      "                                                          ┌───┐      ░ ┌─┐   »\n",
      "   q_0: ──■─────────■────■────■─────────■─────────■────■──┤ H ├──■───░─┤M├───»\n",
      "          │         │    │  ┌─┴─┐       │         │    │  └───┘┌─┴─┐ ░ └╥┘┌─┐»\n",
      "   q_1: ──┼─────────┼────┼──┤ X ├───────┼─────────┼────┼───────┤ X ├─░──╫─┤M├»\n",
      "          │  ┌───┐┌─┴─┐  │  └─┬─┘┌───┐┌─┴─┐┌───┐┌─┴─┐  │       └───┘ ░  ║ └╥┘»\n",
      "   q_2: ──┼──┤ X ├┤ X ├──■────■──┤ X ├┤ X ├┤ X ├┤ X ├──■─────────────░──╫──╫─»\n",
      "          │  └─┬─┘└─┬─┘┌─┴─┐     └─┬─┘└─┬─┘└─┬─┘└─┬─┘  │             ░  ║  ║ »\n",
      "   q_3: ──■────■────┼──┤ X ├───────■────■────■────■────┼─────────────░──╫──╫─»\n",
      "        ┌─┴─┐  │    │  └───┘       │         │       ┌─┴─┐           ░  ║  ║ »\n",
      "   q_4: ┤ X ├──■────■──────────────■─────────■───────┤ X ├───────────░──╫──╫─»\n",
      "        └───┘                                        └───┘           ░  ║  ║ »\n",
      "meas: 5/════════════════════════════════════════════════════════════════╩══╩═»\n",
      "                                                                        0  1 »\n",
      "«                 \n",
      "«   q_0: ─────────\n",
      "«                 \n",
      "«   q_1: ─────────\n",
      "«        ┌─┐      \n",
      "«   q_2: ┤M├──────\n",
      "«        └╥┘┌─┐   \n",
      "«   q_3: ─╫─┤M├───\n",
      "«         ║ └╥┘┌─┐\n",
      "«   q_4: ─╫──╫─┤M├\n",
      "«         ║  ║ └╥┘\n",
      "«meas: 5/═╩══╩══╩═\n",
      "«         2  3  4 \n"
     ]
    }
   ],
   "source": [
    "from qiskit import QuantumCircuit\n",
    "# Example usage:\n",
    "circuit = QuantumCircuit(5)\n",
    "circuit.h(0)\n",
    "circuit.cx(0, 1)\n",
    "circuit.measure_all()\n",
    "print(\"Original circuit:\")\n",
    "print(circuit)\n",
    "circuit_with_error = inject_error(circuit, 'toffoli_beginning', 1)\n",
    "# circuit_with_error = inject_error(circuit, 'insert', 2)\n",
    "print(\"\\nCircuit with error:\")\n",
    "print(circuit_with_error)"
   ]
  },
  {
   "cell_type": "code",
   "execution_count": null,
   "id": "6aab23da-fbfa-4ecf-9f43-716ed252aece",
   "metadata": {},
   "outputs": [],
   "source": []
  },
  {
   "cell_type": "code",
   "execution_count": null,
   "id": "2ae2d758-162c-4b03-adea-95472b3a5a46",
   "metadata": {},
   "outputs": [],
   "source": []
  },
  {
   "cell_type": "code",
   "execution_count": 5,
   "id": "e8e2f631-0c86-46bf-88cd-01c755033a94",
   "metadata": {
    "tags": []
   },
   "outputs": [],
   "source": [
    "import os\n",
    "\n",
    "original_circuit_list = []\n",
    "original_circuit_names = []\n",
    "original_directory = \"./circuits/original/\"\n",
    "for filename in sorted(os.listdir(original_directory)):\n",
    "    if filename.endswith(\".qasm\"): \n",
    "        circ = QuantumCircuit.from_qasm_file(original_directory+filename)\n",
    "        original_circuit_names.append(original_directory+filename)\n",
    "        original_circuit_list.append(circ)\n",
    "        \n",
    "\n",
    "transpiled_circuit_list = []\n",
    "transpiled_circuit_names = []\n",
    "transpiled_directory = \"./circuits/transpiled/\"\n",
    "for filename in sorted(os.listdir(transpiled_directory)):\n",
    "    if filename.endswith(\".qasm\"): \n",
    "        circ = QuantumCircuit.from_qasm_file(transpiled_directory+filename)\n",
    "        transpiled_circuit_names.append(transpiled_directory+filename)\n",
    "        transpiled_circuit_list.append(circ)"
   ]
  },
  {
   "cell_type": "code",
   "execution_count": null,
   "id": "91664135-67ce-4fb3-8806-7be8804220ba",
   "metadata": {
    "tags": []
   },
   "outputs": [],
   "source": []
  },
  {
   "cell_type": "code",
   "execution_count": 6,
   "id": "3919b7ba-63f2-4595-9a60-cabdd34b9ca9",
   "metadata": {
    "tags": []
   },
   "outputs": [
    {
     "name": "stdout",
     "output_type": "stream",
     "text": [
      "equivalent_up_to_global_phase\n"
     ]
    }
   ],
   "source": [
    "from mqt import qcec\n",
    "\n",
    "# verify the equivalence of two circuits provided as qasm files\n",
    "# result = qcec.verify(original_circuit_names[5], transpiled_circuit_names[5])\n",
    "\n",
    "result = qcec.verify(original_circuit_list[5], transpiled_circuit_list[5])\n",
    "\n",
    "# print the result\n",
    "print(result.equivalence)"
   ]
  },
  {
   "cell_type": "code",
   "execution_count": null,
   "id": "5cc14495-57d1-4504-a7ec-9e734d1cd8d9",
   "metadata": {},
   "outputs": [],
   "source": []
  },
  {
   "cell_type": "code",
   "execution_count": 7,
   "id": "4505f7d3-b105-4080-af5a-c49935b3e503",
   "metadata": {
    "tags": []
   },
   "outputs": [],
   "source": [
    "from qiskit import execute, Aer\n",
    "from collections import Counter\n",
    "from qiskit.quantum_info.analysis import hellinger_fidelity\n",
    "\n",
    "def are_circuits_equivalent(circuit1, circuit2, shots=1000):\n",
    "    \"\"\"Check if two quantum circuits are equivalent by comparing their measurement probabilities.\n",
    "\n",
    "    Args:\n",
    "        circuit1 (QuantumCircuit): The first quantum circuit.\n",
    "        circuit2 (QuantumCircuit): The second quantum circuit.\n",
    "        shots (int): The number of shots to use for the quantum simulation.\n",
    "\n",
    "    Returns:\n",
    "        bool: True if the circuits are equivalent, False otherwise.\n",
    "    \"\"\"\n",
    "    simulator = Aer.get_backend('qasm_simulator')\n",
    "\n",
    "    job1 = execute(circuit1, simulator, shots=shots)\n",
    "    counts1 = job1.result().get_counts()\n",
    "\n",
    "    job2 = execute(circuit2, simulator, shots=shots)\n",
    "    counts2 = job2.result().get_counts()\n",
    "\n",
    "    # Normalize the counts to probabilities\n",
    "    counts1 = {k: v / shots for k, v in counts1.items()}\n",
    "    counts2 = {k: v / shots for k, v in counts2.items()}\n",
    "\n",
    "    # Fill in missing keys with zero counts\n",
    "    counts1 = Counter(counts1)\n",
    "    counts2 = Counter(counts2)\n",
    "    counts1 += Counter({k: 0 for k in counts2.keys() if k not in counts1})\n",
    "    counts2 += Counter({k: 0 for k in counts1.keys() if k not in counts2})\n",
    "    \n",
    "    counts1_keys = sorted(counts1)\n",
    "    counts2_keys = sorted(counts2)\n",
    "    \n",
    "    new_counts1 = {key:counts1[key] for key in counts1_keys}\n",
    "    new_counts2 = {key:counts2[key] for key in counts2_keys}\n",
    "    \n",
    "    counts1_array = np.array(list(new_counts1.values()))\n",
    "    counts2_array = np.array(list(new_counts2.values()))\n",
    "    \n",
    "    # check fidelity with Helinger_fidelity    \n",
    "    fidelity = hellinger_fidelity(new_counts1, new_counts2)\n",
    "\n",
    "    # Check if the fidelity is close to 1\n",
    "    return np.abs(1 - fidelity) < 0.1 # at least 90% fidelity is acceptable\n"
   ]
  },
  {
   "cell_type": "code",
   "execution_count": 8,
   "id": "e6c2b81e-639b-4b52-8ff0-f552ac6cb2b9",
   "metadata": {
    "tags": []
   },
   "outputs": [
    {
     "data": {
      "text/plain": [
       "True"
      ]
     },
     "execution_count": 8,
     "metadata": {},
     "output_type": "execute_result"
    }
   ],
   "source": [
    "U = original_circuit_list[18]\n",
    "G = transpiled_circuit_list[18]\n",
    "\n",
    "are_circuits_equivalent(U, G)"
   ]
  },
  {
   "cell_type": "code",
   "execution_count": 9,
   "id": "5a686f03-034e-4b13-8019-0c1a04b82f28",
   "metadata": {
    "tags": []
   },
   "outputs": [
    {
     "name": "stdout",
     "output_type": "stream",
     "text": [
      "equivalent_up_to_global_phase\n"
     ]
    }
   ],
   "source": [
    "result = qcec.verify(U, G)\n",
    "\n",
    "# print the result\n",
    "print(result.equivalence)"
   ]
  },
  {
   "cell_type": "code",
   "execution_count": 10,
   "id": "1876169c-a5bd-4b91-8392-6bb206f1eeaa",
   "metadata": {
    "tags": []
   },
   "outputs": [
    {
     "data": {
      "image/png": "[encoded data removed]",
      "text/plain": [
       "<Figure size 872.774x367.889 with 1 Axes>"
      ]
     },
     "execution_count": 10,
     "metadata": {},
     "output_type": "execute_result"
    }
   ],
   "source": [
    "G.draw(\"mpl\")"
   ]
  },
  {
   "cell_type": "code",
   "execution_count": 11,
   "id": "94f96da2-7f96-42c0-a693-12d43c4dc1fa",
   "metadata": {},
   "outputs": [],
   "source": [
    "G_with_error = inject_error(G, 'remove', 3)"
   ]
  },
  {
   "cell_type": "code",
   "execution_count": 12,
   "id": "e256a11e-f52a-4ef0-a629-ab0340df8d7f",
   "metadata": {
    "tags": []
   },
   "outputs": [
    {
     "data": {
      "image/png": "[encoded data removed]",
      "text/plain": [
       "<Figure size 872.774x367.889 with 1 Axes>"
      ]
     },
     "execution_count": 12,
     "metadata": {},
     "output_type": "execute_result"
    }
   ],
   "source": [
    "G_with_error.draw(\"mpl\")"
   ]
  },
  {
   "cell_type": "code",
   "execution_count": 13,
   "id": "f4b23fbd-b7b7-422a-be55-a5e82a0bc123",
   "metadata": {},
   "outputs": [
    {
     "data": {
      "text/plain": [
       "False"
      ]
     },
     "execution_count": 13,
     "metadata": {},
     "output_type": "execute_result"
    }
   ],
   "source": [
    "are_circuits_equivalent(U, G_with_error)"
   ]
  },
  {
   "cell_type": "code",
   "execution_count": 14,
   "id": "284df09a-7297-479e-9f73-acf64ad2d3d5",
   "metadata": {},
   "outputs": [],
   "source": [
    "# from qiskit import QuantumCircuit\n",
    "# from qiskit.quantum_info import random_unitary\n",
    "# import numpy as np\n",
    "\n",
    "# def classical_stimuli(G: QuantumCircuit):\n",
    "#     \"\"\"Applies random Pauli gates to each qubit of the circuit.\"\"\"\n",
    "#     circuit = copy.deepcopy(G)\n",
    "#     pauli_gates = [lambda q: circuit.i(q), lambda q: circuit.x(q), \n",
    "#                    lambda q: circuit.y(q), lambda q: circuit.z(q)]\n",
    "#     for qubit in range(circuit.num_qubits):\n",
    "#         np.random.choice(pauli_gates)(qubit)\n",
    "#     return circuit\n",
    "\n",
    "# def local_quantum_stimuli(G: QuantumCircuit):\n",
    "#     \"\"\"Applies random rotations around the Bloch sphere to each qubit of the circuit.\"\"\"\n",
    "#     circuit = copy.deepcopy(G)\n",
    "#     for qubit in range(circuit.num_qubits):\n",
    "#         circuit.u(*np.random.uniform(0, 2*np.pi, 3), qubit)  # Random single-qubit unitary\n",
    "#     return circuit\n",
    "\n",
    "# def global_quantum_stimuli(G: QuantumCircuit):\n",
    "#     \"\"\"Applies a random unitary operation to all qubits of the circuit.\"\"\"\n",
    "#     circuit = copy.deepcopy(G)\n",
    "#     random_gate = random_unitary(2**circuit.num_qubits)  # Random many-qubit unitary\n",
    "#     circuit.unitary(random_gate, range(circuit.num_qubits))\n",
    "#     return circuit\n"
   ]
  },
  {
   "cell_type": "code",
   "execution_count": 15,
   "id": "8d8ed9ca-f09d-46a7-8347-735b5b718428",
   "metadata": {
    "tags": []
   },
   "outputs": [],
   "source": [
    "from qiskit import QuantumCircuit, transpile\n",
    "from qiskit.extensions import UnitaryGate\n",
    "from qiskit.quantum_info import random_unitary\n",
    "from qiskit.circuit.library import XGate, HGate, SGate, IGate\n",
    "import numpy as np\n",
    "\n",
    "def classical_stimuli(G: QuantumCircuit):\n",
    "    \"\"\"Prepares the circuit in a random computational basis state.\"\"\"\n",
    "    circuit = copy.deepcopy(G)\n",
    "    bitstring = np.random.choice([0, 1], circuit.num_qubits)  # Random bitstring\n",
    "    stimuli = QuantumCircuit(circuit.num_qubits)\n",
    "    for qubit, bit in enumerate(bitstring):\n",
    "        if bit:\n",
    "            stimuli.x(qubit)  # Apply an X gate if the bit in the bitstring is 1\n",
    "    \n",
    "    stimuli.barrier()\n",
    "    return stimuli.compose(circuit)"
   ]
  },
  {
   "cell_type": "code",
   "execution_count": 16,
   "id": "ae2ac1b2-4b6d-4557-91ae-5063be0c5d1f",
   "metadata": {
    "tags": []
   },
   "outputs": [
    {
     "data": {
      "image/png": "[encoded data removed]",
      "text/plain": [
       "<Figure size 1040x367.889 with 1 Axes>"
      ]
     },
     "execution_count": 16,
     "metadata": {},
     "output_type": "execute_result"
    }
   ],
   "source": [
    "classical_stimuli(G).draw(\"mpl\")"
   ]
  },
  {
   "cell_type": "code",
   "execution_count": 17,
   "id": "57861729-bdd5-447f-a6bd-7ea338cbeab5",
   "metadata": {
    "tags": []
   },
   "outputs": [],
   "source": [
    "from qiskit import QuantumCircuit\n",
    "from qiskit.circuit.library import XGate, HGate, SGate, IGate\n",
    "\n",
    "def local_stimuli(G: QuantumCircuit):\n",
    "    \"\"\"Applies a random gate from the set {I, X, H, XH, HS, XHS} to each qubit.\"\"\"\n",
    "    circuit = copy.deepcopy(G)\n",
    "    stimuli = QuantumCircuit(circuit.num_qubits)\n",
    "    \n",
    "    def I_gates(q):\n",
    "        stimuli.i(q)\n",
    "        \n",
    "    def X_gates(q):\n",
    "        stimuli.x(q)\n",
    "        \n",
    "    def H_gates(q):\n",
    "        stimuli.h(q)\n",
    "        \n",
    "    def XH_gates(q):\n",
    "        stimuli.x(q)\n",
    "        stimuli.h(q)\n",
    "        \n",
    "    def HS_gates(q):\n",
    "        stimuli.h(q)\n",
    "        stimuli.s(q)\n",
    "        \n",
    "    def XHS_gates(q):\n",
    "        stimuli.x(q)\n",
    "        stimuli.h(q)\n",
    "        stimuli.s(q)\n",
    "    \n",
    "    gates_list = [lambda q: I_gates(q), lambda q: X_gates(q),lambda q: H_gates(q), \n",
    "                  lambda q: XH_gates(q), lambda q: HS_gates(q),lambda q: XHS_gates(q)]\n",
    "\n",
    "    for qubit in range(stimuli.num_qubits):\n",
    "        np.random.choice(gates_list)(qubit)\n",
    "        \n",
    "    stimuli.barrier()\n",
    "\n",
    "    return stimuli.compose(circuit)\n"
   ]
  },
  {
   "cell_type": "code",
   "execution_count": 18,
   "id": "8c552a53-da47-4d6b-9632-c4640c1a236e",
   "metadata": {
    "tags": []
   },
   "outputs": [
    {
     "data": {
      "image/png": "[encoded data removed]",
      "text/plain": [
       "<Figure size 1207.22x367.889 with 1 Axes>"
      ]
     },
     "execution_count": 18,
     "metadata": {},
     "output_type": "execute_result"
    }
   ],
   "source": [
    "local_stimuli(G).draw(\"mpl\")"
   ]
  },
  {
   "cell_type": "code",
   "execution_count": 19,
   "id": "4ce5148b-ce84-4400-bbef-90f8e6223825",
   "metadata": {},
   "outputs": [],
   "source": [
    "# from qiskit import QuantumCircuit\n",
    "# from qiskit.circuit.library import CXGate, HGate, SGate\n",
    "# import random\n",
    "\n",
    "# def global_stimuli(G: QuantumCircuit, num_layers: int = 2):\n",
    "#     \"\"\"Generates global stimuli for a given quantum circuit.\n",
    "\n",
    "#     Args:\n",
    "#         G (QuantumCircuit): The quantum circuit for which to generate stimuli.\n",
    "#         num_layers (int): The number of gate layers in the stimuli.\n",
    "\n",
    "#     Returns:\n",
    "#         QuantumCircuit: The resulting quantum circuit after applying the stimuli.\n",
    "#     \"\"\"\n",
    "#     # Copy the circuit\n",
    "#     circuit = copy.deepcopy(G)\n",
    "\n",
    "#     # Create a new circuit for the stimuli\n",
    "#     stimuli = QuantumCircuit(circuit.num_qubits)\n",
    "\n",
    "#     # Define the gates\n",
    "#     gates = [HGate(), SGate(), CXGate()]\n",
    "    \n",
    "#     # randomly select the number of layers (l>1) based on the number of qubits in the circuit\n",
    "#     n = circuit.num_qubits\n",
    "#     if n > 2:\n",
    "#         num_layers = random.choice(range(2, n+1))\n",
    "\n",
    "#     for _ in range(num_layers):\n",
    "#         # Choose a random gate for each qubit\n",
    "#         for qubit in range(circuit.num_qubits):\n",
    "#             # gate = np.random.choice(gates)\n",
    "#             gate = random.choice(gates)\n",
    "\n",
    "#             # For single-qubit gates\n",
    "#             if not isinstance(gate, CXGate):\n",
    "#                 stimuli.append(gate, [qubit])\n",
    "            \n",
    "#             # For two-qubit gates (CNOT)\n",
    "#             else:\n",
    "#                 control_qubit = qubit\n",
    "#                 qubits_list = list(range(circuit.num_qubits))\n",
    "#                 qubits_list.remove(control_qubit)\n",
    "#                 target_qubit = np.random.choice(qubits_list)\n",
    "#                 stimuli.append(gate, [control_qubit, target_qubit])\n",
    "                \n",
    "#         stimuli.barrier()\n",
    "\n",
    "#     # Compose the stimuli with the original circuit\n",
    "#     combined_circuit = stimuli.compose(circuit)\n",
    "\n",
    "#     return combined_circuit\n"
   ]
  },
  {
   "cell_type": "code",
   "execution_count": 20,
   "id": "096fd488-754f-4941-8871-11f152eb7e06",
   "metadata": {
    "tags": []
   },
   "outputs": [],
   "source": [
    "from qiskit import QuantumCircuit\n",
    "from qiskit.circuit.library import CXGate, HGate, SGate\n",
    "import random\n",
    "\n",
    "def global_stimuli(G: QuantumCircuit, num_layers: int = 2):\n",
    "    \"\"\"Generates global stimuli for a given quantum circuit.\n",
    "\n",
    "    Args:\n",
    "        G (QuantumCircuit): The quantum circuit for which to generate stimuli.\n",
    "        num_layers (int): The number of gate layers in the stimuli.\n",
    "\n",
    "    Returns:\n",
    "        QuantumCircuit: The resulting quantum circuit after applying the stimuli.\n",
    "    \"\"\"\n",
    "    # Copy the circuit\n",
    "    circuit = copy.deepcopy(G)\n",
    "\n",
    "    # Create a new circuit for the stimuli\n",
    "    stimuli = QuantumCircuit(circuit.num_qubits)\n",
    "    \n",
    "    def I_gates(q):\n",
    "        stimuli.i(q)\n",
    "        \n",
    "    def X_gates(q):\n",
    "        stimuli.x(q)\n",
    "        \n",
    "    def H_gates(q):\n",
    "        stimuli.h(q)\n",
    "        \n",
    "    def S_gates(q):\n",
    "        stimuli.s(q)\n",
    "        \n",
    "    def XH_gates(q):\n",
    "        stimuli.x(q)\n",
    "        stimuli.h(q)\n",
    "        \n",
    "    def HS_gates(q):\n",
    "        stimuli.h(q)\n",
    "        stimuli.s(q)\n",
    "        \n",
    "    def XHS_gates(q):\n",
    "        stimuli.x(q)\n",
    "        stimuli.h(q)\n",
    "        stimuli.s(q)\n",
    "    \n",
    "    gates = [lambda q: I_gates(q), lambda q: X_gates(q),lambda q: H_gates(q), lambda q: S_gates(q),\n",
    "                  lambda q: XH_gates(q), lambda q: HS_gates(q),lambda q: XHS_gates(q), CXGate()]\n",
    "\n",
    "    # for qubit in range(stimuli.num_qubits):\n",
    "    #     np.random.choice(gates_list)(qubit)\n",
    "\n",
    "    # Define the gates\n",
    "    # gates = [HGate(), SGate(), CXGate()]\n",
    "    \n",
    "    # randomly select the number of layers (l>1) based on the number of qubits in the circuit\n",
    "    n = circuit.num_qubits\n",
    "    if n > 2:\n",
    "        num_layers = random.choice(range(2, n+1))\n",
    "\n",
    "    for _ in range(num_layers):\n",
    "        # Choose a random gate for each qubit\n",
    "        for qubit in range(circuit.num_qubits):\n",
    "            # gate = np.random.choice(gates)\n",
    "            gate = random.choice(gates)\n",
    "\n",
    "            # For single-qubit gates\n",
    "            if not isinstance(gate, CXGate):\n",
    "                # stimuli.append(gate, [qubit])\n",
    "                gate(qubit)\n",
    "            \n",
    "            # For two-qubit gates (CNOT)\n",
    "            else:\n",
    "                control_qubit = qubit\n",
    "                qubits_list = list(range(circuit.num_qubits))\n",
    "                qubits_list.remove(control_qubit)\n",
    "                target_qubit = np.random.choice(qubits_list)\n",
    "                stimuli.append(gate, [control_qubit, target_qubit])\n",
    "                \n",
    "        stimuli.barrier()\n",
    "\n",
    "    # Compose the stimuli with the original circuit\n",
    "    combined_circuit = stimuli.compose(circuit)\n",
    "\n",
    "    return combined_circuit\n"
   ]
  },
  {
   "cell_type": "code",
   "execution_count": 21,
   "id": "2b7c753d-53f6-4e81-a510-a69d42bd0d71",
   "metadata": {
    "tags": []
   },
   "outputs": [
    {
     "data": {
      "image/png": "[encoded data removed]",
      "text/plain": [
       "<Figure size 872.774x367.889 with 1 Axes>"
      ]
     },
     "execution_count": 21,
     "metadata": {},
     "output_type": "execute_result"
    }
   ],
   "source": [
    "G.draw(\"mpl\")"
   ]
  },
  {
   "cell_type": "code",
   "execution_count": 22,
   "id": "244c45fc-3905-41dd-ace3-62150030833e",
   "metadata": {
    "tags": []
   },
   "outputs": [
    {
     "data": {
      "image/png": "[encoded data removed]",
      "text/plain": [
       "<Figure size 1708.89x367.889 with 1 Axes>"
      ]
     },
     "execution_count": 22,
     "metadata": {},
     "output_type": "execute_result"
    }
   ],
   "source": [
    "global_stimuli(G).draw(\"mpl\")"
   ]
  },
  {
   "cell_type": "code",
   "execution_count": 23,
   "id": "ccd9e90e-0660-49a1-b615-8c392d499153",
   "metadata": {
    "tags": []
   },
   "outputs": [],
   "source": [
    "import time\n",
    "\n",
    "error_type = 'remove'\n",
    "num_errors = 1\n",
    "\n",
    "\n",
    "\n",
    "stimuli_names_methods = {\"classical\": classical_stimuli, \"local\": local_stimuli, \"global\": global_stimuli}\n",
    "stimuli_results = {\"classical\": [], \"local\": [], \"global\": []}\n",
    "error_detection_rate = {\"classical\": [], \"local\": [], \"global\": []} # the probability that the error is detected \n",
    "                                                                    # by the generated set of stimuli\n",
    "runtime = {\"classical\": [], \"local\": [], \"global\": []}   # the runtime ∅t of the respective scheme in seconds\n",
    "# num_stimuli = [] # the number of stimuli ∅s needed to detect the error\n",
    "\n",
    "for U, G in zip(original_circuit_list, transpiled_circuit_list):\n",
    "    \n",
    "    # For each error-injection option, 50 random seeds have been considered.\n",
    "    for _ in range(50):\n",
    "        # Step 4: Inject errors into the circuit\n",
    "        G_with_error = inject_error(G, error_type, num_errors)\n",
    "\n",
    "        # Step 5: Generate random stimuli\n",
    "        for name, method in stimuli_names_methods.items():\n",
    "            is_equivalent = True\n",
    "\n",
    "            stimuli_detection = [] # add 1 to list if stimuli detects error and 0 otherwise\n",
    "            start_time = time.time()\n",
    "            # For each resulting instance, 5 random seeds have been used for \n",
    "            # randomly picking stimuli according to the respective scheme.\n",
    "            for _ in range(5):\n",
    "                G_with_stimuli = method(G_with_error)\n",
    "\n",
    "                # Step 6: Perform simulations\n",
    "                # Step 7: Detect the injected error\n",
    "                is_equivalent = are_circuits_equivalent(U, G_with_stimuli)\n",
    "\n",
    "                value = int(not is_equivalent) # if is_equivalent is False, error is detected and value=1, otherwise, value=0\n",
    "                stimuli_detection.append(value)\n",
    "\n",
    "            num_stimuli_to_detect_error = sum(stimuli_detection)  # Total number of stimuli that detected error\n",
    "            \n",
    "            # The number of stimuli ∅s needed to detect the error.\n",
    "            # The index of the first 1 (first time it was correctly detected)\n",
    "            # plus 1 to account for zero indexing\n",
    "            if 1 in stimuli_detection:\n",
    "                first_stimuli_to_detect_error = stimuli_detection.index(1) + 1\n",
    "            else:\n",
    "                first_stimuli_to_detect_error = 5+1 # more than 5 stimuli are needed\n",
    "\n",
    "            stop_time = time.time()\n",
    "            # Step 8: Collect the results\n",
    "            stimuli_results[name].append(first_stimuli_to_detect_error)\n",
    "            error_detection_rate[name].append((100*num_stimuli_to_detect_error/5))\n",
    "            runtime[name].append((stop_time - start_time))"
   ]
  },
  {
   "cell_type": "code",
   "execution_count": 24,
   "id": "42e90db3-e194-48af-b1b5-6506e6356813",
   "metadata": {
    "tags": []
   },
   "outputs": [],
   "source": [
    "average_num_stimuli = {}\n",
    "for name, results in stimuli_results.items():\n",
    "    std = np.std(results)\n",
    "    mean = sum(results)/len(results)\n",
    "    average_num_stimuli[name] = f\"{mean:.1f} \" + u\"\\u00B1\" f\" {std:.1f}\"\n",
    "    \n",
    "average_error_detection_rate = {}\n",
    "for name, results in error_detection_rate.items():\n",
    "    std = np.std(results)\n",
    "    mean = sum(results)/len(results)\n",
    "    average_error_detection_rate[name] = f\"{mean:.1f} \" + u\"\\u00B1\" f\" {std:.1f}\"\n",
    "    \n",
    "average_runtime = {}\n",
    "for name, results in runtime.items():\n",
    "    std = np.std(results)\n",
    "    mean = sum(results)/len(results)\n",
    "    average_runtime[name] = f\"{mean:.1f} \" + u\"\\u00B1\" f\" {std:.1f}\""
   ]
  },
  {
   "cell_type": "code",
   "execution_count": 25,
   "id": "959bf027-1ebe-48be-b7e6-c9a9d1cfb7e2",
   "metadata": {
    "tags": []
   },
   "outputs": [
    {
     "data": {
      "text/plain": [
       "{'classical': '1.3 ± 1.1', 'local': '1.0 ± 0.2', 'global': '1.0 ± 0.2'}"
      ]
     },
     "execution_count": 25,
     "metadata": {},
     "output_type": "execute_result"
    }
   ],
   "source": [
    "average_num_stimuli"
   ]
  },
  {
   "cell_type": "code",
   "execution_count": 26,
   "id": "e1248829-9665-487f-8c4b-cf79965e0f95",
   "metadata": {
    "tags": []
   },
   "outputs": [
    {
     "data": {
      "text/plain": [
       "{'classical': '87.6 ± 26.0', 'local': '97.8 ± 7.7', 'global': '97.7 ± 7.6'}"
      ]
     },
     "execution_count": 26,
     "metadata": {},
     "output_type": "execute_result"
    }
   ],
   "source": [
    "average_error_detection_rate"
   ]
  },
  {
   "cell_type": "code",
   "execution_count": 27,
   "id": "ad3aa4ce-71a3-4093-9092-ebf2832ba6a0",
   "metadata": {
    "tags": []
   },
   "outputs": [
    {
     "data": {
      "text/plain": [
       "{'classical': '0.3 ± 0.2', 'local': '0.3 ± 0.3', 'global': '0.4 ± 0.3'}"
      ]
     },
     "execution_count": 27,
     "metadata": {},
     "output_type": "execute_result"
    }
   ],
   "source": [
    "average_runtime"
   ]
  },
  {
   "cell_type": "code",
   "execution_count": 29,
   "id": "f522b7e8-6b64-489e-aea2-263d1a648c75",
   "metadata": {
    "tags": []
   },
   "outputs": [],
   "source": [
    "# stimuli_results"
   ]
  },
  {
   "cell_type": "code",
   "execution_count": 30,
   "id": "8059cd54-fc31-4644-9183-4922dbe99932",
   "metadata": {
    "tags": []
   },
   "outputs": [],
   "source": [
    "experiments = {\"Remove 1 random gate\": (\"remove\", 1), \"Remove 2 random gates\": (\"remove\", 2), \n",
    " \"Remove 3 random gates\": (\"remove\", 3), \"Add 1 random gate\": (\"insert\", 1), \n",
    " \"Add 2 random gate\": (\"insert\", 2), \"Add 3 random gate\": (\"insert\", 3),\n",
    " \"Add 10 random Toffolis at beginning\": (\"toffoli_beginning\", 10), \n",
    " \"Add 10 random Toffolis at end\": (\"toffoli_end\", 10)}"
   ]
  },
  {
   "cell_type": "code",
   "execution_count": 34,
   "id": "6f74c0b4-847d-4ac1-acb2-abd899d27695",
   "metadata": {
    "tags": []
   },
   "outputs": [
    {
     "name": "stdout",
     "output_type": "stream",
     "text": [
      "remove 1\n",
      "remove 2\n",
      "remove 3\n",
      "insert 1\n",
      "insert 2\n",
      "insert 3\n",
      "toffoli_beginning 10\n",
      "toffoli_end 10\n"
     ]
    }
   ],
   "source": [
    "for exprt, (error_type, num_errors) in experiments.items():\n",
    "    print(error_type, num_errors)"
   ]
  },
  {
   "cell_type": "code",
   "execution_count": null,
   "id": "5b1ff168-81d3-4505-b5db-6d19b6266ad8",
   "metadata": {},
   "outputs": [],
   "source": []
  }
 ],
 "metadata": {
  "kernelspec": {
   "display_name": "phd-env",
   "language": "python",
   "name": "phd-env"
  },
  "language_info": {
   "codemirror_mode": {
    "name": "ipython",
    "version": 3
   },
   "file_extension": ".py",
   "mimetype": "text/x-python",
   "name": "python",
   "nbconvert_exporter": "python",
   "pygments_lexer": "ipython3",
   "version": "3.10.9"
  }
 },
 "nbformat": 4,
 "nbformat_minor": 5
}
