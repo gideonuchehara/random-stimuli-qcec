from qiskit import QuantumCircuit
from src.experiment import qcec_experiment


import os

original_circuit_list = []
original_circuit_names = []
original_directory = "../circuits/original/"
for filename in sorted(os.listdir(original_directory)):
    if filename.endswith(".qasm"): 
        circ = QuantumCircuit.from_qasm_file(original_directory+filename)
        original_circuit_names.append(original_directory+filename)
        original_circuit_list.append(circ)
        

transpiled_circuit_list = []
transpiled_circuit_names = []
transpiled_directory = "../circuits/transpiled/"
for filename in sorted(os.listdir(transpiled_directory)):
    if filename.endswith(".qasm"): 
        circ = QuantumCircuit.from_qasm_file(transpiled_directory+filename)
        transpiled_circuit_names.append(transpiled_directory+filename)
        transpiled_circuit_list.append(circ)


# from src.inject_error import inject_error
# inject_error(transpiled_circuit_list[4], 'toffoli_beginning', num_errors=1)


# for circ in original_circuit_list:
#     print(circ.num_qubits)


# for circ in transpiled_circuit_list:
#     print(circ.num_qubits)
    


experiments = {"Remove 1 random gate": ("remove", 1), "Remove 2 random gates": ("remove", 2), 
 "Remove 3 random gates": ("remove", 3), "Add 1 random gate": ("insert", 1), 
 "Add 2 random gate": ("insert", 2), "Add 3 random gate": ("insert", 3),
 "Add 10 random Toffolis at beginning": ("toffoli_beginning", 10), 
 "Add 10 random Toffolis at end": ("toffoli_end", 10)}


df, df_main = qcec_experiment(original_circuit_list, transpiled_circuit_list, experiments)


df





import pandas as pd


pd.DataFrame.to_latex(df)


df.to_csv("qcec_experiment_00.csv")


pd.read_csv("qcec_experiment_00.csv")


df_main.to_csv("main_qcec_experiment_00.csv")





import matplotlib.pyplot as plt
import seaborn as sns
import pandas as pd
import ast

# Load the data from the CSV file
df_main_new = pd.read_csv('main_qcec_experiment_00.csv')

# Extract the relevant data
data_string = df_main_new[(df_main_new["Unnamed: 0"] == "Remove 1 random gate") & (df_main_new["Unnamed: 1"] == "Ps")]["classical"].values[0]

# Convert string representation of a list to an actual list
data_list = ast.literal_eval(data_string)

# Set global font size and style for the plot
plt.rcParams.update({
    'font.size': 14,
    'font.weight': 'bold'
})

# Create the main figure and axis
fig, ax1 = plt.subplots(figsize=(10, 6))

# Plot the histogram on the main axis
ax1.hist(data_list, bins=30, color='lightblue', edgecolor='black')
ax1.set_xlabel("Error detection rate (Ps)", fontsize=16, weight='bold')
ax1.set_ylabel("Frequency", fontsize=16, weight='bold')
ax1.set_title("Classical Stimuli: Remove 1 random gate", fontsize=18, weight='bold')

# Create an inset axis for the boxplot in the middle of the main plot with increased size
ax2 = ax1.inset_axes([0.3, 0.35, 0.4, 0.3])  # x, y, width, height
sns.boxplot(x=data_list, ax=ax2, color='lightgreen', width=0.5, fliersize=5, flierprops=dict(markerfacecolor='red'))
ax2.set_xlabel('')
ax2.set_title('Boxplot', fontsize=16, weight='bold')

# Show the plots
plt.tight_layout()
plt.savefig("classical_combined_remove_1.pdf")
plt.show()









import matplotlib.pyplot as plt
import seaborn as sns
import pandas as pd
import ast

# Load the data from the CSV file
df_main_new = pd.read_csv('main_qcec_experiment_00.csv')

# Extract the relevant data
data_string = df_main_new[(df_main_new["Unnamed: 0"] == "Remove 1 random gate") & (df_main_new["Unnamed: 1"] == "Ps")]["local"].values[0]

# Convert string representation of a list to an actual list
data_list = ast.literal_eval(data_string)

# Set global font size and style for the plot
plt.rcParams.update({
    'font.size': 14,
    'font.weight': 'bold'
})

# Create the main figure and axis
fig, ax1 = plt.subplots(figsize=(10, 6))

# Plot the histogram on the main axis
ax1.hist(data_list, bins=30, color='lightblue', edgecolor='black')
ax1.set_xlabel("Error detection rate (Ps)", fontsize=16, weight='bold')
ax1.set_ylabel("Frequency", fontsize=16, weight='bold')
ax1.set_title("Local Quantum Stimuli: Remove 1 random gate", fontsize=18, weight='bold')

# Create an inset axis for the boxplot in the middle of the main plot with increased size
ax2 = ax1.inset_axes([0.3, 0.35, 0.4, 0.3])  # x, y, width, height
sns.boxplot(x=data_list, ax=ax2, color='lightgreen', width=0.5, fliersize=5, flierprops=dict(markerfacecolor='red'))
ax2.set_xlabel('')
ax2.set_title('Boxplot', fontsize=16, weight='bold')

# Show the plots
plt.tight_layout()
plt.savefig("local_combined_remove_1.pdf")
plt.show()






import matplotlib.pyplot as plt
import seaborn as sns
import pandas as pd
import ast

# Load the data from the CSV file
df_main_new = pd.read_csv('main_qcec_experiment_00.csv')

# Extract the relevant data
data_string = df_main_new[(df_main_new["Unnamed: 0"] == "Remove 1 random gate") & (df_main_new["Unnamed: 1"] == "Ps")]["global"].values[0]

# Convert string representation of a list to an actual list
data_list = ast.literal_eval(data_string)

# Set global font size and style for the plot
plt.rcParams.update({
    'font.size': 14,
    'font.weight': 'bold'
})

# Create the main figure and axis
fig, ax1 = plt.subplots(figsize=(10, 6))

# Plot the histogram on the main axis
ax1.hist(data_list, bins=30, color='lightblue', edgecolor='black')
ax1.set_xlabel("Error detection rate (Ps)", fontsize=16, weight='bold')
ax1.set_ylabel("Frequency", fontsize=16, weight='bold')
ax1.set_title("Global Quantum Stimuli: Remove 1 random gate", fontsize=18, weight='bold')

# Create an inset axis for the boxplot in the middle of the main plot with increased size
ax2 = ax1.inset_axes([0.3, 0.35, 0.4, 0.3])  # x, y, width, height
sns.boxplot(x=data_list, ax=ax2, color='lightgreen', width=0.5, fliersize=5, flierprops=dict(markerfacecolor='red'))
ax2.set_xlabel('')
ax2.set_title('Boxplot', fontsize=16, weight='bold')

# Show the plots
plt.tight_layout()
plt.savefig("global_combined_remove_1.pdf")
plt.show()



















